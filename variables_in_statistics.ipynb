{
 "cells": [
  {
   "cell_type": "markdown",
   "metadata": {},
   "source": [
    "---\n",
    "# Variables in Statistics\n",
    "\n",
    "> The properties with varying values we call **`variables`**. The height property in our dataset is an example of a variable. In fact, all the properties described in our dataset are variables."
   ]
  },
  {
   "cell_type": "markdown",
   "metadata": {},
   "source": [
    "***\n",
    "## Quantitative and Qualitative Variables\n",
    "\n",
    "\n",
    "Variables in statistics can describe either `quantities`, or `qualities`.\n",
    "\n",
    "For instance, the `Height` variable in our dataset describes *how tall* each player is. The `Age` variable describes *how much* time has passed since each player was born. The `MIN` variable describes *how many* minutes each player played in the 2016-2017 WNBA season.\n",
    "\n",
    "Generally, a variable that describes *how much* there is of something describes a quantity, and, for this reason, it's called a **quantitative variable**\n",
    "\n",
    "Variables that describe qualities are called **qualitative variables** or **categorical variables**. Generally, qualitative variables describe *what* or *how* something is. Usually, qualitative variables describe qualities using words, but numbers can also be used."
   ]
  },
  {
   "cell_type": "markdown",
   "metadata": {},
   "source": [
    "* We've already created a dictionary named variables. Each variable name is given as dictionary key.\n",
    "* If a variable is quantitative, then complete the value of the corresponding key with the string `'quantitative'`. If the variable is qualitative, the use the string `'qualitative'`."
   ]
  },
  {
   "cell_type": "code",
   "execution_count": 6,
   "metadata": {},
   "outputs": [
    {
     "name": "stdout",
     "output_type": "stream",
     "text": [
      "{'Name': 'qualitative', 'Team': 'qualitative', 'Pos': 'qualitative', 'Height': 'quantitative', 'BMI': 'quantitative', 'Birth_Place': 'qualitative', 'Birthdate': 'quantitative', 'Age': 'quantitative', 'College': 'qualitative', 'Experience': 'quantitative', 'Games Played': 'quantitative', 'MIN': 'quantitative', 'FGM': 'quantitative', 'FGA': 'quantitative', '3PA': 'quantitative', 'FTM': 'quantitative', 'FTA': 'quantitative', 'FT%': 'quantitative', 'OREB': 'quantitative', 'DREB': 'quantitative', 'REB': 'quantitative', 'AST': 'quantitative', 'PTS': 'quantitative'}\n"
     ]
    }
   ],
   "source": [
    "import pandas as pd\n",
    "wnba = pd.read_csv('wnba.csv')\n",
    "\n",
    "variables = {'Name': '', 'Team': '', 'Pos': '', 'Height': '', 'BMI': '',\n",
    "             'Birth_Place': '', 'Birthdate': '', 'Age': '', 'College': '', 'Experience': '',\n",
    "             'Games Played': '', 'MIN': '', 'FGM': '', 'FGA': '',\n",
    "             '3PA': '', 'FTM': '', 'FTA': '', 'FT%': '', 'OREB': '', 'DREB': '',\n",
    "             'REB': '', 'AST': '', 'PTS': ''}\n",
    "\n",
    "variables = {'Name': 'qualitative', 'Team': 'qualitative', 'Pos': 'qualitative', 'Height': 'quantitative', 'BMI': 'quantitative',\n",
    "             'Birth_Place': 'qualitative', 'Birthdate': 'quantitative', 'Age': 'quantitative', 'College': 'qualitative', 'Experience': 'quantitative',\n",
    "             'Games Played': 'quantitative', 'MIN': 'quantitative', 'FGM': 'quantitative', 'FGA': 'quantitative',\n",
    "             '3PA': 'quantitative', 'FTM': 'quantitative', 'FTA': 'quantitative', 'FT%': 'quantitative', 'OREB': 'quantitative', 'DREB': 'quantitative',\n",
    "             'REB': 'quantitative', 'AST': 'quantitative', 'PTS': 'quantitative'}\n",
    "print(variables)"
   ]
  },
  {
   "cell_type": "markdown",
   "metadata": {},
   "source": [
    "***\n",
    "## Scales of Measurement\n",
    "\n",
    "![Scale](https://s3.amazonaws.com/dq-content/284/s1m2_height_team.svg)\n",
    "\n",
    "The system of rules that define how each variable is measured is called `scale of measurement or, less often, `level of measurement`."
   ]
  },
  {
   "cell_type": "markdown",
   "metadata": {},
   "source": []
  },
  {
   "cell_type": "markdown",
   "metadata": {},
   "source": [
    "***\n",
    "## The Nominal Scale\n",
    "<span style=\"background:white\">\n",
    "\n",
    "![Nominal](https://s3.amazonaws.com/dq-content/284/s1m2_nominal.svg) </span>\n",
    "\n",
    "The Team variable is an example of a variable measured on a `nominal scale`. For any variable measured on a nominal scale:\n",
    "* We can tell whether two individuals are different or not (with respect to that variable).\n",
    "* We can't say anything about the direction and the size of the difference.\n",
    "* We know that it can only describe qualities.\n",
    "\n",
    "\n",
    "Inspect the dataset, and find the variables measured on a nominal scale. In the code editor:\n",
    "* Add the variables measured on a nominal scale to a list named nominal_scale, and sort the elements in the list alphabetically (the sorting helps us with answer checking).\n",
    "* Notice that we've added a new variable named Height_labels. Instead of showing the height in centimeters, the new variable shows labels like \"short\", \"medium\", or \"tall\". By considering the principles that characterize the nominal scale, think whether the new Height_labels variable should be included in your nominal_scale list."
   ]
  },
  {
   "cell_type": "code",
   "execution_count": 8,
   "metadata": {},
   "outputs": [
    {
     "name": "stdout",
     "output_type": "stream",
     "text": [
      "['Birth_Place', 'College', 'Name', 'Pos', 'Team']\n"
     ]
    },
    {
     "data": {
      "text/html": [
       "<div>\n",
       "<style scoped>\n",
       "    .dataframe tbody tr th:only-of-type {\n",
       "        vertical-align: middle;\n",
       "    }\n",
       "\n",
       "    .dataframe tbody tr th {\n",
       "        vertical-align: top;\n",
       "    }\n",
       "\n",
       "    .dataframe thead th {\n",
       "        text-align: right;\n",
       "    }\n",
       "</style>\n",
       "<table border=\"1\" class=\"dataframe\">\n",
       "  <thead>\n",
       "    <tr style=\"text-align: right;\">\n",
       "      <th></th>\n",
       "      <th>Name</th>\n",
       "      <th>Team</th>\n",
       "      <th>Pos</th>\n",
       "      <th>Height</th>\n",
       "      <th>Weight</th>\n",
       "      <th>BMI</th>\n",
       "      <th>Birth_Place</th>\n",
       "      <th>Birthdate</th>\n",
       "      <th>Age</th>\n",
       "      <th>College</th>\n",
       "      <th>...</th>\n",
       "      <th>OREB</th>\n",
       "      <th>DREB</th>\n",
       "      <th>REB</th>\n",
       "      <th>AST</th>\n",
       "      <th>STL</th>\n",
       "      <th>BLK</th>\n",
       "      <th>TO</th>\n",
       "      <th>PTS</th>\n",
       "      <th>DD2</th>\n",
       "      <th>TD3</th>\n",
       "    </tr>\n",
       "  </thead>\n",
       "  <tbody>\n",
       "    <tr>\n",
       "      <th>0</th>\n",
       "      <td>Aerial Powers</td>\n",
       "      <td>DAL</td>\n",
       "      <td>F</td>\n",
       "      <td>183</td>\n",
       "      <td>71.0</td>\n",
       "      <td>21.200991</td>\n",
       "      <td>US</td>\n",
       "      <td>January 17, 1994</td>\n",
       "      <td>23</td>\n",
       "      <td>Michigan State</td>\n",
       "      <td>...</td>\n",
       "      <td>6</td>\n",
       "      <td>22</td>\n",
       "      <td>28</td>\n",
       "      <td>12</td>\n",
       "      <td>3</td>\n",
       "      <td>6</td>\n",
       "      <td>12</td>\n",
       "      <td>93</td>\n",
       "      <td>0</td>\n",
       "      <td>0</td>\n",
       "    </tr>\n",
       "    <tr>\n",
       "      <th>1</th>\n",
       "      <td>Alana Beard</td>\n",
       "      <td>LA</td>\n",
       "      <td>G/F</td>\n",
       "      <td>185</td>\n",
       "      <td>73.0</td>\n",
       "      <td>21.329438</td>\n",
       "      <td>US</td>\n",
       "      <td>May 14, 1982</td>\n",
       "      <td>35</td>\n",
       "      <td>Duke</td>\n",
       "      <td>...</td>\n",
       "      <td>19</td>\n",
       "      <td>82</td>\n",
       "      <td>101</td>\n",
       "      <td>72</td>\n",
       "      <td>63</td>\n",
       "      <td>13</td>\n",
       "      <td>40</td>\n",
       "      <td>217</td>\n",
       "      <td>0</td>\n",
       "      <td>0</td>\n",
       "    </tr>\n",
       "    <tr>\n",
       "      <th>2</th>\n",
       "      <td>Alex Bentley</td>\n",
       "      <td>CON</td>\n",
       "      <td>G</td>\n",
       "      <td>170</td>\n",
       "      <td>69.0</td>\n",
       "      <td>23.875433</td>\n",
       "      <td>US</td>\n",
       "      <td>October 27, 1990</td>\n",
       "      <td>26</td>\n",
       "      <td>Penn State</td>\n",
       "      <td>...</td>\n",
       "      <td>4</td>\n",
       "      <td>36</td>\n",
       "      <td>40</td>\n",
       "      <td>78</td>\n",
       "      <td>22</td>\n",
       "      <td>3</td>\n",
       "      <td>24</td>\n",
       "      <td>218</td>\n",
       "      <td>0</td>\n",
       "      <td>0</td>\n",
       "    </tr>\n",
       "    <tr>\n",
       "      <th>3</th>\n",
       "      <td>Alex Montgomery</td>\n",
       "      <td>SAN</td>\n",
       "      <td>G/F</td>\n",
       "      <td>185</td>\n",
       "      <td>84.0</td>\n",
       "      <td>24.543462</td>\n",
       "      <td>US</td>\n",
       "      <td>December 11, 1988</td>\n",
       "      <td>28</td>\n",
       "      <td>Georgia Tech</td>\n",
       "      <td>...</td>\n",
       "      <td>35</td>\n",
       "      <td>134</td>\n",
       "      <td>169</td>\n",
       "      <td>65</td>\n",
       "      <td>20</td>\n",
       "      <td>10</td>\n",
       "      <td>38</td>\n",
       "      <td>188</td>\n",
       "      <td>2</td>\n",
       "      <td>0</td>\n",
       "    </tr>\n",
       "    <tr>\n",
       "      <th>4</th>\n",
       "      <td>Alexis Jones</td>\n",
       "      <td>MIN</td>\n",
       "      <td>G</td>\n",
       "      <td>175</td>\n",
       "      <td>78.0</td>\n",
       "      <td>25.469388</td>\n",
       "      <td>US</td>\n",
       "      <td>August 5, 1994</td>\n",
       "      <td>23</td>\n",
       "      <td>Baylor</td>\n",
       "      <td>...</td>\n",
       "      <td>3</td>\n",
       "      <td>9</td>\n",
       "      <td>12</td>\n",
       "      <td>12</td>\n",
       "      <td>7</td>\n",
       "      <td>0</td>\n",
       "      <td>14</td>\n",
       "      <td>50</td>\n",
       "      <td>0</td>\n",
       "      <td>0</td>\n",
       "    </tr>\n",
       "  </tbody>\n",
       "</table>\n",
       "<p>5 rows × 32 columns</p>\n",
       "</div>"
      ],
      "text/plain": [
       "              Name Team  Pos  Height  Weight        BMI Birth_Place  \\\n",
       "0    Aerial Powers  DAL    F     183    71.0  21.200991          US   \n",
       "1      Alana Beard   LA  G/F     185    73.0  21.329438          US   \n",
       "2     Alex Bentley  CON    G     170    69.0  23.875433          US   \n",
       "3  Alex Montgomery  SAN  G/F     185    84.0  24.543462          US   \n",
       "4     Alexis Jones  MIN    G     175    78.0  25.469388          US   \n",
       "\n",
       "           Birthdate  Age         College  ... OREB  DREB  REB  AST  STL  BLK  \\\n",
       "0   January 17, 1994   23  Michigan State  ...    6    22   28   12    3    6   \n",
       "1       May 14, 1982   35            Duke  ...   19    82  101   72   63   13   \n",
       "2   October 27, 1990   26      Penn State  ...    4    36   40   78   22    3   \n",
       "3  December 11, 1988   28    Georgia Tech  ...   35   134  169   65   20   10   \n",
       "4     August 5, 1994   23          Baylor  ...    3     9   12   12    7    0   \n",
       "\n",
       "   TO  PTS  DD2  TD3  \n",
       "0  12   93    0    0  \n",
       "1  40  217    0    0  \n",
       "2  24  218    0    0  \n",
       "3  38  188    2    0  \n",
       "4  14   50    0    0  \n",
       "\n",
       "[5 rows x 32 columns]"
      ]
     },
     "execution_count": 8,
     "metadata": {},
     "output_type": "execute_result"
    }
   ],
   "source": [
    "nominal_scale = sorted(['Name', 'Team', 'Pos', 'Birth_Place', 'College'])\n",
    "print(nominal_scale)\n",
    "wnba.head(5)"
   ]
  },
  {
   "cell_type": "markdown",
   "metadata": {},
   "source": [
    "***\n",
    "## The Ordinal Scale\n",
    "\n",
    "![Scale](https://s3.amazonaws.com/dq-content/284/s1m2_ordinal_intervals.svg)\n",
    "\n",
    "Consider the following sentences, and evaluate their truth value. If the sentence is true, then assign True to the corresponding variable (programming variable) in the code editor, otherwise assign False. Make sure you assign boolean values as answers, not strings.\n",
    "\n",
    "1. Using the Height_labels variable only, we can tell whether player Kiah Stokes is taller than Riquna Williams. Assign your answer to a variable named `question1`.\n",
    "2. We can measure the height difference between Kiah Stokes and Riquna Williams using the Height_labels variable. Assign your answer to `question2`.\n",
    "3. The Height_labels and the College variables are both measured on an ordinal scale. Assign your answer to `question3`.\n",
    "4. The Games Played variable is not measured on an ordinal scale. Assign your answer to `question4`.\n",
    "5. The Experience variable is measured on an ordinal scale. Assign your answer to `question5`.\n",
    "6. The Height_labels variable is qualitative because it is measured using words. Assign your answer to `question6`."
   ]
  },
  {
   "cell_type": "code",
   "execution_count": 9,
   "metadata": {},
   "outputs": [],
   "source": [
    "question1 = True\n",
    "question2 = False\n",
    "question3 = False\n",
    "question4 = True\n",
    "question5 = False\n",
    "question6 = False"
   ]
  },
  {
   "cell_type": "markdown",
   "metadata": {},
   "source": [
    "***\n",
    "## Interval and Ratio Scales\n",
    "\n",
    "![Ordinal_Scale](https://s3.amazonaws.com/dq-content/284/s1m2_intervals_not_known.svg)\n",
    "![RealNumbers](https://s3.amazonaws.com/dq-content/284/s1m2_intervals_eq.svg)\n",
    "\n",
    "A variable measured on a scale that preserves the order between values and has well-defined intervals using real numbers is an example of a variable measured either on an `interval scale`, or on a `ratio scale`."
   ]
  },
  {
   "cell_type": "markdown",
   "metadata": {},
   "source": [
    "***\n",
    "## The Difference Between Ration and Interval Scales\n",
    "\n",
    "What sets apart ratio scales from interval scales is the nature of the zero point.\n",
    "\n",
    "On a ratio scale, the zero point means no quantity. For example, the `Weight` variable is measured on a **ratio scale**, which means that 0 grams indicate the absence of weight.\n",
    "\n",
    "On an **interval scale**, however, the zero point doesn't indicate the absence of a quantity. It actually indicates the *presence* of a quantity.\n",
    "\n",
    "![Ratio](https://s3.amazonaws.com/dq-content/284/s1m2_interval_vs_ratio.svg)\n",
    "\n",
    "Examine the various variables of the dataset, and find the ones that are measured on an interval or ratio scale.\n",
    "\n",
    "* For the variables measured on a interval scale, add their names as a string to a list named interval. Sort the list alphabetically.\n",
    "* For the variables measured on a ratio scale, add their names as a string to a list named ratio. Sort the list alphabetically.\n",
    "* We've also added the Weight_deviation variable to the dataset, so make sure you include that one too in one of the lists."
   ]
  },
  {
   "cell_type": "code",
   "execution_count": 17,
   "metadata": {},
   "outputs": [
    {
     "name": "stdout",
     "output_type": "stream",
     "text": [
      " interval: ['Birthdate', 'Weight_deviation'] \n",
      " ratio: ['15:00', '3P%', '3PA', 'AST', 'Age', 'BLK', 'BMI', 'DD2', 'DREB', 'Experience', 'FG%', 'FGA', 'FGM', 'FT%', 'FTA', 'FTM', 'Games Played', 'Height', 'MIN', 'OREB', 'PTS', 'REB', 'STL', 'TD3', 'TO', 'Weight']\n"
     ]
    }
   ],
   "source": [
    "interval = ['Birthdate', 'Weight_deviation']\n",
    "ratio = sorted(['Height', 'Weight', 'BMI', 'Age', 'Experience', 'Games Played', 'MIN', 'FGM', 'FGA', 'FG%', '15:00', \n",
    "                '3PA', '3P%', 'FTM', 'FTA', 'FT%', 'OREB', 'DREB', 'REB', 'AST', 'STL', 'BLK', 'TO',\n",
    "                'PTS', 'DD2', 'TD3'])\n",
    "print(' interval:', interval,'\\n','ratio:', ratio)"
   ]
  },
  {
   "cell_type": "markdown",
   "metadata": {},
   "source": [
    "***\n",
    "## Common Examples of Interval Scales\n",
    "\n",
    "Generally, points in time are indicated by variables measured on an interval scale. Let's say we want to indicate the point in time of the first manned mission on the Moon. If we want to use a ratio scale, our zero point must be meaningful and denote the absence of time. For this reason, we'd basically have to begin the counting at the very beginning of time.\n",
    "\n",
    "There are many problems with this approach. One of them is that we don't know with precision when time began (assuming time actually has a beginning), which means we don't know how far away in time we are from that zero point.\n",
    "\n",
    "To overcome this, we can set an arbitrary zero point, and measure the distance in time from there. Customarily, we use the Anno domini system where the zero point is arbitrarily set at the moment Jesus was born. Using this system, we can say that the first manned mission on the Moon happened in 1969. This means that the event happened 1968 years after Jesus' birth (1968 because there's no year 0 in the Anno domini system).\n",
    "\n",
    "![Scale](https://s3.amazonaws.com/dq-content/284/s1m2_anno_domini.svg)\n",
    "\n",
    "Temperature can be measured on a ratio scale too, and this is done using the Kelvin scale. 0 K (0 Kelvin) is not set arbitrarily, and it indicates the lack of temperature. The temperature can't possibly drop below 0 K.\n",
    "\n",
    "![Temp](https://s3.amazonaws.com/dq-content/284/s1m2_temperature.svg)"
   ]
  },
  {
   "cell_type": "markdown",
   "metadata": {},
   "source": [
    "***\n",
    "## Discrete and Continuous Variables\n",
    "Generally, if there's no possible intermediate value between any two adjacent values of a variable, we call that variable <span style=\"text-decoration: underline; font-weight: bold\"> discrete</span>.\n",
    "\n",
    "In the diagram below we consider values between 86 and 87 kg, and break down the interval in five equal parts. Then we take two values (86.2 and 86.8) from the interval 86 - 87, and break down the interval between these values (86.2 and 86.8) in five equal parts. Then we repeat the process for the interval 86.2 - 86.8. In fact, we could repeat the process infinitely.\n",
    "![parts](https://s3.amazonaws.com/dq-content/284/s1m2_infinity_in_finity.svg)\n",
    "\n",
    "Generally, if there's an infinity of values between any two values of a variable, we call that variable <span style=\"text-decoration: underline; font-weight: bold\">continuous</span>.\n"
   ]
  },
  {
   "cell_type": "code",
   "execution_count": 18,
   "metadata": {},
   "outputs": [
    {
     "name": "stdout",
     "output_type": "stream",
     "text": [
      "0    183\n",
      "1    185\n",
      "2    170\n",
      "3    185\n",
      "4    175\n",
      "Name: Height, dtype: int64\n"
     ]
    }
   ],
   "source": [
    "print(wnba['Height'].head())"
   ]
  },
  {
   "cell_type": "markdown",
   "metadata": {},
   "source": [
    "For every variable, indicate whether is continuous or discrete.\n",
    "\n",
    "* In the code editor, we've already extracted for you the names of the variables that are measured on ratio and interval scales. Every variable name is registered as a dictionary key.\n",
    "* If a variable is discrete, then assign the string 'discrete' to its corresponding dictionary key.\n",
    "* If a variable is continuous, then assign the string 'continuous' to its corresponding dictionary key."
   ]
  },
  {
   "cell_type": "code",
   "execution_count": null,
   "metadata": {},
   "outputs": [],
   "source": [
    "ratio_interval_only = {'Height':'', 'Weight': '', 'BMI': '', 'Age': '', 'Games Played': '', 'MIN': '', 'FGM': '',\n",
    "                       'FGA': '', 'FG%': '', '3PA': '', '3P%': '', 'FTM': '', 'FTA': '', 'FT%': '',\n",
    "                       'OREB': '', 'DREB': '', 'REB': '', 'AST': '', 'STL': '', 'BLK': '', 'TO': '',\n",
    "                       'PTS': '', 'DD2': '', 'TD3': '', 'Weight_deviation': ''}\n",
    "ratio_interval_only = {'Height': 'continuous', 'Weight': 'continuous', 'BMI': 'continuous', 'Age': 'continuous',\n",
    "                       'Games Played': 'discrete', 'MIN': 'continuous', 'FGM': 'discrete',\n",
    "                       'FGA': 'discrete', 'FG%': 'continuous', '3PA': 'discrete', '3P%': 'continuous',\n",
    "                       'FTM': 'discrete', 'FTA': 'discrete', 'FT%': 'continuous', 'OREB': 'discrete',\n",
    "                       'DREB': 'discrete', 'REB': 'discrete', 'AST': 'discrete', 'STL': 'discrete',\n",
    "                       'BLK': 'discrete', 'TO': 'discrete', 'PTS': 'discrete', 'DD2': 'discrete', \n",
    "                       'TD3': 'discrete', 'Weight_deviation': 'continuous'}"
   ]
  },
  {
   "cell_type": "markdown",
   "metadata": {},
   "source": [
    "***\n",
    "## Real Limits\n",
    "\n",
    "Generally, every value of a continuous variable is an interval, no matter how precise the value is. The boundaries of an interval are sometimes called real limits. The lower boundary of the interval is called <span style=\"text-decoration: underline; font-weight: bold\">lower real limit</span>, and the upper boundary is called <span style=\"text-decoration: underline; font-weight: bold\">upper real limit</span>.\n",
    "\n",
    "![span](https://s3.amazonaws.com/dq-content/284/s1m2_real_limits.svg)\n",
    "\n",
    "In the figure above we can see for example that 88.5 is halfway between 88 and 89. If we got a measurement of 88.5 kg in practice, but we want only integers in our dataset (hence zero decimals precision), you might wonder whether to assign the value to 88 or 89 kg. The answer is that 88.5 kg is exactly halfway between 88 and 89 kg, and it doesn't necessarily belong to any of those two values. The assignment only depends on how you choose to round numbers: if you round up, then 88.5 kg will be assigned to 89 kg; if you round down, then the value will be assigned to 88 kg.\n",
    "\n",
    "Find the real limits for five values of the BMI (body mass index) variable.\n",
    "\n",
    "* We've already extracted the first five BMI values in the dataset and rounded each off to a precision of three decimal places. We stored the values as dictionary keys in a dictionary named bmi.\n",
    "* For every BMI value write its real limits in a list and make the list a dictionary value that should correspond to the right dictionary key. The lower real limits should come first in each list. For example:\n",
    "\n",
    "```python\n",
    "bmi = {20: [19.5, 20.5],\n",
    " 21: [20.5, 21.5],\n",
    " 23: [22.5, 23.5],\n",
    " 24: [23.5, 24.5],\n",
    " 22: [21.5, 22.5]}\n",
    " ```"
   ]
  },
  {
   "cell_type": "code",
   "execution_count": 19,
   "metadata": {},
   "outputs": [],
   "source": [
    "bmi = {21.201: [],\n",
    " 21.329: [],\n",
    " 23.875: [],\n",
    " 24.543: [],\n",
    " 25.469: []}\n",
    "bmi = {21.201: [21.2005, 21.2015],\n",
    " 21.329: [21.3285, 21.3295],\n",
    " 23.875: [23.8745, 23.8755],\n",
    " 24.543: [24.5425, 24.5435],\n",
    " 25.469: [25.4685, 25.4695]}"
   ]
  },
  {
   "cell_type": "markdown",
   "metadata": {},
   "source": [
    "***\n",
    "![Next](https://s3.amazonaws.com/dq-content/284/s1m2_second_step_done.svg)"
   ]
  }
 ],
 "metadata": {
  "interpreter": {
   "hash": "102858ec4b04dcd74038fe1ba5e2df4247d5b4c1f27427e1bf6cc1238b63214b"
  },
  "kernelspec": {
   "display_name": "Python 3.9.7 64-bit ('base': conda)",
   "language": "python",
   "name": "python3"
  },
  "language_info": {
   "codemirror_mode": {
    "name": "ipython",
    "version": 3
   },
   "file_extension": ".py",
   "mimetype": "text/x-python",
   "name": "python",
   "nbconvert_exporter": "python",
   "pygments_lexer": "ipython3",
   "version": "3.9.7"
  },
  "orig_nbformat": 4
 },
 "nbformat": 4,
 "nbformat_minor": 2
}
